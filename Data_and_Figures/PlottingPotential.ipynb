{
 "cells": [
  {
   "cell_type": "code",
   "execution_count": 23,
   "id": "0d366c5b-518f-4d8e-be22-851fda9214ef",
   "metadata": {},
   "outputs": [],
   "source": [
    "import numpy as np\n",
    "import matplotlib.pyplot as plt\n",
    "plotsdir = '/Users/billiemeadowcroft/Dropbox/PhDGithub/RemoteTether/Data_and_Figures/Master_Figures/'"
   ]
  },
  {
   "cell_type": "code",
   "execution_count": 20,
   "id": "ef04af1c-058e-4302-91e9-d6b3c346de66",
   "metadata": {},
   "outputs": [],
   "source": [
    "def Vattract(epsilon,Dmem,D,r):\n",
    "    dcut = 1.5*(Dmem+D)/2\n",
    "    Vatt = -epsilon*(((Dmem+D)/(2*r))**6)\n",
    "    if r> dcut:\n",
    "        Vatt=0\n",
    "    return Vatt"
   ]
  },
  {
   "cell_type": "code",
   "execution_count": 21,
   "id": "e22b3eb1-aba1-466a-ab0c-092f1a76c029",
   "metadata": {},
   "outputs": [],
   "source": [
    "Dmem = 1\n",
    "D = 5\n",
    "epsilon = 7\n",
    "Vatts = []\n",
    "\n",
    "rrs = np.linspace(3,10,50)\n",
    "for i in range(len(rrs)):\n",
    "    Vatts.append(Vattract(epsilon,Dmem,D,rrs[i]))\n",
    "    "
   ]
  },
  {
   "cell_type": "code",
   "execution_count": 30,
   "id": "28e2031e-d8e8-4be8-8284-f436308f0c19",
   "metadata": {},
   "outputs": [
    {
     "data": {
      "image/png": "[encoded data removed]",
      "text/plain": [
       "<Figure size 216x180 with 1 Axes>"
      ]
     },
     "metadata": {
      "needs_background": "light"
     },
     "output_type": "display_data"
    }
   ],
   "source": [
    "fig,ax =plt.subplots(figsize = (3,2.5))\n",
    "ax.plot(rrs,Vatts,color = 'mediumseagreen',linewidth = 3)\n",
    "ax.set_xlabel(r'Colloid-membrane distance, d [$\\sigma$]',fontsize = 12)\n",
    "ax.set_ylabel(r'Potential, $V_{\\mathrm{att}}$ [$k_{\\mathrm{B}}T$]',fontsize = 12)\n",
    "plotname = 'Potential.pdf'\n",
    "fig.tight_layout()\n",
    "fig.savefig(plotsdir+plotname)"
   ]
  },
  {
   "cell_type": "code",
   "execution_count": null,
   "id": "e1bc47b1-c2bb-44a1-9f9c-fe41884bf435",
   "metadata": {},
   "outputs": [],
   "source": []
  }
 ],
 "metadata": {
  "kernelspec": {
   "display_name": "Python 3",
   "language": "python",
   "name": "python3"
  },
  "language_info": {
   "codemirror_mode": {
    "name": "ipython",
    "version": 3
   },
   "file_extension": ".py",
   "mimetype": "text/x-python",
   "name": "python",
   "nbconvert_exporter": "python",
   "pygments_lexer": "ipython3",
   "version": "3.8.5"
  }
 },
 "nbformat": 4,
 "nbformat_minor": 5
}
